{
 "cells": [
  {
   "cell_type": "code",
   "execution_count": 10,
   "metadata": {},
   "outputs": [],
   "source": [
    "from awpy import DemoParser\n",
    "import matplotlib.pyplot as plt\n",
    "import os\n",
    "import pandas as pd\n",
    "pd.set_option('display.max_columns', None)\n",
    "\n",
    "\n",
    "\n",
    "####### \n",
    "# Write the output name for the csv file containing the dataframe\n",
    "#######\n",
    "\n",
    "output_name = 'vita-vs-heroic-dataframe'"
   ]
  },
  {
   "attachments": {},
   "cell_type": "markdown",
   "metadata": {},
   "source": [
    "### Use this to create a dataframe with all the files in the `demos_rar` folder"
   ]
  },
  {
   "cell_type": "code",
   "execution_count": null,
   "metadata": {},
   "outputs": [],
   "source": [
    "## Get all file names\n",
    "demos = os.listdir('demos_rar')\n",
    "demos = [d for d in demos if d.endswith('.dem')]\n",
    "\n",
    "\n",
    "for file in demos:\n",
    "    print(f\"demos_rar/{file}\")"
   ]
  },
  {
   "attachments": {},
   "cell_type": "markdown",
   "metadata": {},
   "source": [
    "### Manual selection of a single demo for predicting a match round by round"
   ]
  },
  {
   "cell_type": "code",
   "execution_count": 13,
   "metadata": {},
   "outputs": [],
   "source": [
    "demos = ['vitality-vs-heroic-m1-mirage.dem']"
   ]
  },
  {
   "cell_type": "code",
   "execution_count": 14,
   "metadata": {},
   "outputs": [
    {
     "name": "stdout",
     "output_type": "stream",
     "text": [
      "parsing thru vitality-vs-heroic-m1-mirage.dem\n",
      "clearing unused columns\n",
      "transforming multiple rows data into one\n",
      "joining all data\n",
      "(2320, 40)\n"
     ]
    }
   ],
   "source": [
    "full_dataframe = pd.DataFrame()\n",
    "\n",
    "for file in demos:\n",
    "    demo_parser = DemoParser(demofile=f\"demos_rar/{file}\", parse_rate=128)\n",
    "    print(f'parsing thru {file}')\n",
    "    df = demo_parser.parse(return_type='df')\n",
    "    player_frames = df['playerFrames']\n",
    "    rounds = df['rounds']\n",
    "    \n",
    "    score = rounds[['roundNum','tScore','ctScore', 'winningSide']]\n",
    "    score_dict = score.set_index('roundNum')[['tScore', 'ctScore', 'winningSide']].to_dict()\n",
    "\n",
    "    print(f'clearing unused columns')\n",
    "    columns_drop = ['name', 'ping', 'teamName', 'team', 'cashSpendTotal',\n",
    "    'x', 'y', 'z', 'eyeX', 'eyeY', 'eyeZ', 'velocityX', 'velocityY', 'velocityZ',\n",
    "    'viewX', 'viewY', 'steamID', 'activeWeapon', 'isBot', 'lastPlaceName',\n",
    "    'isBlinded', 'isAirborne', 'isDucking', 'isDuckingInProgress',\n",
    "        'lastPlaceName', 'isUnDuckingInProgress', 'isReloading',\n",
    "        'isInBombZone', 'isInBuyZone', 'isStanding', 'isScoped',\n",
    "        'isWalking', 'isUnknown', 'spotters', 'zoomLevel', 'matchID', 'totalUtility']\n",
    "    cleaned_frames = player_frames.drop(columns_drop, axis=1)\n",
    "    # columns_drop\n",
    "    columns_teams = ['side', 'hp', 'armor', 'flashGrenades', 'smokeGrenades',\n",
    "    'heGrenades', 'fireGrenades', 'isAlive', 'isDefusing',\n",
    "    'isPlanting', 'equipmentValue', 'equipmentValueFreezetimeEnd',\n",
    "    'equipmentValueRoundStart', 'cash', 'cashSpendThisRound',\n",
    "        'hasHelmet', 'hasDefuse', 'hasBomb']\n",
    "    cleaned_common = cleaned_frames.drop(columns_teams, axis=1)\n",
    "    common_columns = cleaned_common.columns.drop('tick')\n",
    "    print(f'transforming multiple rows data into one')\n",
    "    cleaned_ct = cleaned_frames[cleaned_frames['side'] == 'CT'].drop(common_columns, axis=1).add_prefix('ct_')\n",
    "    cleaned_t = cleaned_frames[cleaned_frames['side'] == 'T'].drop(common_columns, axis=1).add_prefix('t_')\n",
    "    grouped_common = cleaned_common.groupby('tick').first()\n",
    "    grouped_ct  = cleaned_ct.groupby('ct_tick').sum(numeric_only=True)\n",
    "    grouped_t  = cleaned_t.groupby('t_tick').sum(numeric_only=True)\n",
    "\n",
    "    print(f'joining all data')\n",
    "    tick_frames = pd.concat([grouped_common, grouped_ct, grouped_t], axis=1)\n",
    "\n",
    "    tick_frames['t_Score'] = tick_frames['roundNum'].map(score_dict.get('tScore'))\n",
    "    tick_frames['ct_Score'] = tick_frames['roundNum'].map(score_dict.get('ctScore'))\n",
    "    tick_frames['winningSide'] = tick_frames['roundNum'].map(score_dict.get('winningSide'))\n",
    "    full_dataframe = pd.concat([full_dataframe, tick_frames], axis=0)\n",
    "\n",
    "    print(full_dataframe.shape)\n",
    "\n",
    "\n",
    "### Change the name to the output\n",
    "full_dataframe.to_csv(f'{output_name}.csv')"
   ]
  }
 ],
 "metadata": {
  "kernelspec": {
   "display_name": "Python 3",
   "language": "python",
   "name": "python3"
  },
  "language_info": {
   "codemirror_mode": {
    "name": "ipython",
    "version": 3
   },
   "file_extension": ".py",
   "mimetype": "text/x-python",
   "name": "python",
   "nbconvert_exporter": "python",
   "pygments_lexer": "ipython3",
   "version": "3.10.8"
  },
  "orig_nbformat": 4
 },
 "nbformat": 4,
 "nbformat_minor": 2
}
